{
  "nbformat": 4,
  "nbformat_minor": 0,
  "metadata": {
    "colab": {
      "provenance": [],
      "authorship_tag": "ABX9TyNzZmSuRW/+FXMM4OG06Iuh",
      "include_colab_link": true
    },
    "kernelspec": {
      "name": "python3",
      "display_name": "Python 3"
    },
    "language_info": {
      "name": "python"
    }
  },
  "cells": [
    {
      "cell_type": "markdown",
      "metadata": {
        "id": "view-in-github",
        "colab_type": "text"
      },
      "source": [
        "<a href=\"https://colab.research.google.com/github/aliabdi064/AI-Powered-Invoice-Automation/blob/main/VATOCR.ipynb\" target=\"_parent\"><img src=\"https://colab.research.google.com/assets/colab-badge.svg\" alt=\"Open In Colab\"/></a>"
      ]
    },
    {
      "cell_type": "code",
      "execution_count": null,
      "metadata": {
        "colab": {
          "base_uri": "https://localhost:8080/"
        },
        "id": "3CKsHLASV7Yb",
        "outputId": "a6a89659-2582-4e90-b349-d7bdb8e4f54d"
      },
      "outputs": [
        {
          "output_type": "stream",
          "name": "stdout",
          "text": [
            "Mounted at /content/drive\n"
          ]
        }
      ],
      "source": [
        "# This cell connects Colab to your Google Drive\n",
        "from google.colab import drive\n",
        "drive.mount('/content/drive')"
      ]
    },
    {
      "cell_type": "code",
      "source": [
        "import os\n",
        "import zipfile\n",
        "\n",
        "# --- CONFIGURATION ---\n",
        "# 1. PASTE THE PATH to your zip file here\n",
        "zip_file_path = '/content/drive/My Drive/10invoices.zip'\n",
        "\n",
        "# 2. DEFINE a directory to store the extracted PDFs\n",
        "output_extract_directory = '/content/invoices/'\n",
        "# ---\n",
        "\n",
        "# Create the output directory if it doesn't exist\n",
        "if not os.path.exists(output_extract_directory):\n",
        "    os.makedirs(output_extract_directory)\n",
        "\n",
        "# Unzip the file\n",
        "print(f\"Extracting {zip_file_path}...\")\n",
        "with zipfile.ZipFile(zip_file_path, 'r') as zip_ref:\n",
        "    zip_ref.extractall(output_extract_directory)\n",
        "\n",
        "print(\"Extraction complete.\")\n",
        "print(f\"{len(os.listdir(output_extract_directory))} files extracted.\")\n"
      ],
      "metadata": {
        "colab": {
          "base_uri": "https://localhost:8080/"
        },
        "id": "qwei_z_IWVWj",
        "outputId": "18ce00f1-ec46-43c6-fe23-dc21f0a9b822"
      },
      "execution_count": null,
      "outputs": [
        {
          "output_type": "stream",
          "name": "stdout",
          "text": [
            "Extracting /content/drive/My Drive/10invoices.zip...\n",
            "Extraction complete.\n",
            "19 files extracted.\n"
          ]
        }
      ]
    },
    {
      "cell_type": "code",
      "source": [
        "!pip install -q -U google-generativeai\n",
        "!pip install pdf2image\n",
        "!pip install gspread oauth2client pandas\n",
        "!apt-get install poppler-utils"
      ],
      "metadata": {
        "colab": {
          "base_uri": "https://localhost:8080/"
        },
        "id": "6KoEVg0oWVZM",
        "outputId": "aa26c6e1-b203-4e4a-bbd2-8f6795a9c26f"
      },
      "execution_count": null,
      "outputs": [
        {
          "output_type": "stream",
          "name": "stdout",
          "text": [
            "Collecting pdf2image\n",
            "  Downloading pdf2image-1.17.0-py3-none-any.whl.metadata (6.2 kB)\n",
            "Requirement already satisfied: pillow in /usr/local/lib/python3.11/dist-packages (from pdf2image) (11.2.1)\n",
            "Downloading pdf2image-1.17.0-py3-none-any.whl (11 kB)\n",
            "Installing collected packages: pdf2image\n",
            "Successfully installed pdf2image-1.17.0\n",
            "Requirement already satisfied: gspread in /usr/local/lib/python3.11/dist-packages (6.2.1)\n",
            "Requirement already satisfied: oauth2client in /usr/local/lib/python3.11/dist-packages (4.1.3)\n",
            "Requirement already satisfied: pandas in /usr/local/lib/python3.11/dist-packages (2.2.2)\n",
            "Requirement already satisfied: google-auth>=1.12.0 in /usr/local/lib/python3.11/dist-packages (from gspread) (2.38.0)\n",
            "Requirement already satisfied: google-auth-oauthlib>=0.4.1 in /usr/local/lib/python3.11/dist-packages (from gspread) (1.2.2)\n",
            "Requirement already satisfied: httplib2>=0.9.1 in /usr/local/lib/python3.11/dist-packages (from oauth2client) (0.22.0)\n",
            "Requirement already satisfied: pyasn1>=0.1.7 in /usr/local/lib/python3.11/dist-packages (from oauth2client) (0.6.1)\n",
            "Requirement already satisfied: pyasn1-modules>=0.0.5 in /usr/local/lib/python3.11/dist-packages (from oauth2client) (0.4.2)\n",
            "Requirement already satisfied: rsa>=3.1.4 in /usr/local/lib/python3.11/dist-packages (from oauth2client) (4.9.1)\n",
            "Requirement already satisfied: six>=1.6.1 in /usr/local/lib/python3.11/dist-packages (from oauth2client) (1.17.0)\n",
            "Requirement already satisfied: numpy>=1.23.2 in /usr/local/lib/python3.11/dist-packages (from pandas) (2.0.2)\n",
            "Requirement already satisfied: python-dateutil>=2.8.2 in /usr/local/lib/python3.11/dist-packages (from pandas) (2.9.0.post0)\n",
            "Requirement already satisfied: pytz>=2020.1 in /usr/local/lib/python3.11/dist-packages (from pandas) (2025.2)\n",
            "Requirement already satisfied: tzdata>=2022.7 in /usr/local/lib/python3.11/dist-packages (from pandas) (2025.2)\n",
            "Requirement already satisfied: cachetools<6.0,>=2.0.0 in /usr/local/lib/python3.11/dist-packages (from google-auth>=1.12.0->gspread) (5.5.2)\n",
            "Requirement already satisfied: requests-oauthlib>=0.7.0 in /usr/local/lib/python3.11/dist-packages (from google-auth-oauthlib>=0.4.1->gspread) (2.0.0)\n",
            "Requirement already satisfied: pyparsing!=3.0.0,!=3.0.1,!=3.0.2,!=3.0.3,<4,>=2.4.2 in /usr/local/lib/python3.11/dist-packages (from httplib2>=0.9.1->oauth2client) (3.2.3)\n",
            "Requirement already satisfied: oauthlib>=3.0.0 in /usr/local/lib/python3.11/dist-packages (from requests-oauthlib>=0.7.0->google-auth-oauthlib>=0.4.1->gspread) (3.2.2)\n",
            "Requirement already satisfied: requests>=2.0.0 in /usr/local/lib/python3.11/dist-packages (from requests-oauthlib>=0.7.0->google-auth-oauthlib>=0.4.1->gspread) (2.32.3)\n",
            "Requirement already satisfied: charset-normalizer<4,>=2 in /usr/local/lib/python3.11/dist-packages (from requests>=2.0.0->requests-oauthlib>=0.7.0->google-auth-oauthlib>=0.4.1->gspread) (3.4.2)\n",
            "Requirement already satisfied: idna<4,>=2.5 in /usr/local/lib/python3.11/dist-packages (from requests>=2.0.0->requests-oauthlib>=0.7.0->google-auth-oauthlib>=0.4.1->gspread) (3.10)\n",
            "Requirement already satisfied: urllib3<3,>=1.21.1 in /usr/local/lib/python3.11/dist-packages (from requests>=2.0.0->requests-oauthlib>=0.7.0->google-auth-oauthlib>=0.4.1->gspread) (2.4.0)\n",
            "Requirement already satisfied: certifi>=2017.4.17 in /usr/local/lib/python3.11/dist-packages (from requests>=2.0.0->requests-oauthlib>=0.7.0->google-auth-oauthlib>=0.4.1->gspread) (2025.6.15)\n",
            "Reading package lists... Done\n",
            "Building dependency tree... Done\n",
            "Reading state information... Done\n",
            "The following NEW packages will be installed:\n",
            "  poppler-utils\n",
            "0 upgraded, 1 newly installed, 0 to remove and 35 not upgraded.\n",
            "Need to get 186 kB of archives.\n",
            "After this operation, 697 kB of additional disk space will be used.\n",
            "Get:1 http://archive.ubuntu.com/ubuntu jammy-updates/main amd64 poppler-utils amd64 22.02.0-2ubuntu0.8 [186 kB]\n",
            "Fetched 186 kB in 0s (1,179 kB/s)\n",
            "Selecting previously unselected package poppler-utils.\n",
            "(Reading database ... 126319 files and directories currently installed.)\n",
            "Preparing to unpack .../poppler-utils_22.02.0-2ubuntu0.8_amd64.deb ...\n",
            "Unpacking poppler-utils (22.02.0-2ubuntu0.8) ...\n",
            "Setting up poppler-utils (22.02.0-2ubuntu0.8) ...\n",
            "Processing triggers for man-db (2.10.2-1) ...\n"
          ]
        }
      ]
    },
    {
      "cell_type": "code",
      "source": [
        "import google.generativeai as genai\n",
        "from google.colab import auth, userdata\n",
        "import gspread\n",
        "from google.auth import default\n",
        "import pandas as pd\n",
        "\n",
        "# --- AUTHENTICATION ---\n",
        "\n",
        "# Part 1: Gemini API\n",
        "# Use Colab's built-in secret manager for your API key.\n",
        "# Click the \"Key\" icon on the left sidebar, add a new secret,\n",
        "# name it \"GEMINI_API_KEY\", and paste your key as the value.\n",
        "try:\n",
        "    api_key = userdata.get('GEMINI_API_KEY')\n",
        "    genai.configure(api_key=api_key)\n",
        "    print(\"Gemini API Key configured successfully.\")\n",
        "except userdata.SecretNotFoundError:\n",
        "    print(\"ERROR: Secret 'GEMINI_API_KEY' not found. Please follow the instructions to add it.\")\n",
        "except Exception as e:\n",
        "    print(f\"An error occurred during Gemini configuration: {e}\")\n",
        "\n",
        "\n",
        "# Part 2: Google Sheets\n",
        "# This authenticates your user account to allow writing to Sheets.\n",
        "try:\n",
        "    auth.authenticate_user()\n",
        "    creds, _ = default()\n",
        "    gc = gspread.authorize(creds)\n",
        "    print(\"Google Sheets authentication successful.\")\n",
        "except Exception as e:\n",
        "    print(f\"An error occurred during Google Sheets authentication: {e}\")"
      ],
      "metadata": {
        "colab": {
          "base_uri": "https://localhost:8080/"
        },
        "id": "-A0wo1plWVbs",
        "outputId": "aec2397a-3933-4c24-dad9-1569c2ec42ac"
      },
      "execution_count": null,
      "outputs": [
        {
          "output_type": "stream",
          "name": "stdout",
          "text": [
            "Gemini API Key configured successfully.\n",
            "Google Sheets authentication successful.\n"
          ]
        }
      ]
    },
    {
      "cell_type": "code",
      "source": [
        "import json\n",
        "import time\n",
        "from pdf2image import convert_from_path\n",
        "\n",
        "# --- SCRIPT CONFIGURATION ---\n",
        "# 1. The name of the Google Sheet you created\n",
        "sheet_name = 'Invoice Data Output'\n",
        "\n",
        "# 2. Directory where the PDFs were extracted\n",
        "invoices_dir = '/content/invoices/'\n",
        "# ---\n",
        "\n",
        "# Initialize the Gemini Model\n",
        "model = genai.GenerativeModel('gemini-1.5-flash')\n",
        "\n",
        "# The magic prompt for Gemini\n",
        "prompt_template = \"\"\"\n",
        "You are an expert invoice data extraction AI. Your task is to analyze the image(s) from an invoice and extract the following information.\n",
        "The entire invoice may be spread across one or more images.\n",
        "Provide the output ONLY in a valid JSON format. Do not include any text before or after the JSON object.\n",
        "\n",
        "The required fields are:\n",
        "- \"customer_name\": The name of the customer or company being invoiced.\n",
        "- \"invoice_number\": The unique identifier for the invoice.\n",
        "- \"invoice_date\": The date the invoice was issued.\n",
        "- \"po_number\": The Purchase Order number, if available. If not found, use \"N/A\".\n",
        "- \"line_items\": An array of objects, where each object represents a line item with \"description\", \"quantity\", \"unit_price\", and \"line_total_before_vat\".\n",
        "- \"subtotal\": The total value of all items before VAT or taxes.\n",
        "- \"vat_amount\": The total VAT or tax amount. If not specified, calculate it from the total and subtotal.\n",
        "- \"invoice_total\": The final, total amount of the invoice including all taxes and charges.\n",
        "\n",
        "Please analyze the following invoice image(s) and return the extracted data in the specified JSON format.\n",
        "\"\"\"\n",
        "\n",
        "# Open the Google Sheet and select the first worksheet\n",
        "try:\n",
        "    sh = gc.open(sheet_name)\n",
        "    worksheet = sh.get_worksheet(0)\n",
        "    print(f\"Successfully opened Google Sheet: '{sheet_name}'\")\n",
        "\n",
        "    # --- NEW: Robust Header Writing Logic ---\n",
        "    # Define the exact header row we expect\n",
        "    header = [\n",
        "        \"File Name\", \"Customer Name\", \"Invoice Number\", \"Invoice Date\",\n",
        "        \"PO Number\", \"Subtotal\", \"VAT Amount\", \"Invoice Total\", \"Line Item Details\", \"AI Raw Output\"\n",
        "    ]\n",
        "\n",
        "    # Get the first row of the sheet to check if the header is already there\n",
        "    first_row = []\n",
        "    try:\n",
        "        first_row = worksheet.row_values(1)\n",
        "    except gspread.exceptions.APIError as e:\n",
        "        # This error can occur if the sheet is completely empty, which is fine.\n",
        "        if \"exceeds grid limits\" not in str(e):\n",
        "            raise e\n",
        "\n",
        "    # If the first row is not our header, insert the header at the top\n",
        "    if first_row != header:\n",
        "        worksheet.insert_row(header, 1)\n",
        "        print(\"Wrote header row to sheet.\")\n",
        "    else:\n",
        "        print(\"Header row already present.\")\n",
        "\n",
        "\n",
        "except gspread.exceptions.SpreadsheetNotFound:\n",
        "    print(f\"ERROR: Spreadsheet '{sheet_name}' not found. Please check the name and sharing settings.\")\n",
        "except Exception as e:\n",
        "    print(f\"An error occurred opening the sheet: {e}\")\n",
        "\n",
        "\n",
        "# --- MAIN PROCESSING LOOP ---\n",
        "pdf_files = [f for f in os.listdir(invoices_dir) if f.lower().endswith('.pdf')]\n",
        "print(f\"\\nFound {len(pdf_files)} PDF files to process. Starting...\")\n",
        "\n",
        "# Start appending data from the next available row after the header\n",
        "start_row = len(worksheet.get_all_values()) + 1\n",
        "\n",
        "for filename in pdf_files:\n",
        "    pdf_path = os.path.join(invoices_dir, filename)\n",
        "    print(f\"\\n--- Processing: {filename} ---\")\n",
        "\n",
        "    # 1. Convert PDF to a list of images\n",
        "    try:\n",
        "        pil_images = convert_from_path(pdf_path)\n",
        "    except Exception as e:\n",
        "        print(f\"ERROR: Could not convert PDF to image: {e}\")\n",
        "        worksheet.append_row([filename, f\"ERROR: Failed to convert PDF - {e}\", \"\", \"\", \"\", \"\", \"\", \"\", \"\", \"\"])\n",
        "        continue\n",
        "\n",
        "    if not pil_images:\n",
        "        print(\"Skipping - PDF conversion resulted in no images.\")\n",
        "        worksheet.append_row([filename, \"ERROR: PDF conversion yielded no images.\", \"\", \"\", \"\", \"\", \"\", \"\", \"\", \"\"])\n",
        "        continue\n",
        "\n",
        "    # 2. Prepare content and call the AI\n",
        "    vision_prompt = [prompt_template] + pil_images\n",
        "    try:\n",
        "        response = model.generate_content(vision_prompt)\n",
        "        ai_response_text = response.text\n",
        "\n",
        "        # Clean the response to ensure it's valid JSON\n",
        "        json_str = ai_response_text.strip().replace('```json', '').replace('```', '').strip()\n",
        "\n",
        "        # 3. Parse the JSON response\n",
        "        try:\n",
        "            data = json.loads(json_str)\n",
        "            line_items_str = json.dumps(data.get('line_items', []))\n",
        "\n",
        "            # 4. Append data to the Google Sheet\n",
        "            row_to_add = [\n",
        "                filename,\n",
        "                data.get('customer_name', 'N/A'),\n",
        "                data.get('invoice_number', 'N/A'),\n",
        "                data.get('invoice_date', 'N/A'),\n",
        "                data.get('po_number', 'N/A'),\n",
        "                data.get('subtotal', 'N/A'),\n",
        "                data.get('vat_amount', 'N/A'),\n",
        "                data.get('invoice_total', 'N/A'),\n",
        "                line_items_str,\n",
        "                json_str\n",
        "            ]\n",
        "            worksheet.append_row(row_to_add)\n",
        "            print(f\"SUCCESS: Extracted data for {filename} and added to sheet.\")\n",
        "\n",
        "        except json.JSONDecodeError:\n",
        "            print(f\"ERROR: AI returned malformed JSON. Writing raw output to sheet.\")\n",
        "            worksheet.append_row([filename, \"ERROR: Malformed JSON from AI.\", \"\", \"\", \"\", \"\", \"\", \"\", \"\", ai_response_text])\n",
        "\n",
        "    except Exception as e:\n",
        "        print(f\"ERROR: Failed to call Gemini API for {filename}: {e}\")\n",
        "        worksheet.append_row([filename, f\"ERROR: API Call Failed - {e}\", \"\", \"\", \"\", \"\", \"\", \"\", \"\", \"\"])\n",
        "\n",
        "    # Be a good citizen and avoid hitting API rate limits\n",
        "    time.sleep(2) # Wait 2 seconds between requests\n",
        "\n",
        "print(\"\\n--- All invoices processed! ---\")"
      ],
      "metadata": {
        "colab": {
          "base_uri": "https://localhost:8080/",
          "height": 1000
        },
        "id": "cvUQmbpuWVh2",
        "outputId": "e27600ed-fb35-44f8-ea4b-65a42f319553"
      },
      "execution_count": null,
      "outputs": [
        {
          "output_type": "stream",
          "name": "stdout",
          "text": [
            "Successfully opened Google Sheet: 'Invoice Data Output'\n",
            "Wrote header row to sheet.\n",
            "\n",
            "Found 19 PDF files to process. Starting...\n",
            "\n",
            "--- Processing: PO No. 13894 Invoice No. 7300622935 Bond Street Fire.pdf ---\n",
            "SUCCESS: Extracted data for PO No. 13894 Invoice No. 7300622935 Bond Street Fire.pdf and added to sheet.\n",
            "\n",
            "--- Processing: PO No. 14275 Invoice No. 7301391704.pdf ---\n",
            "SUCCESS: Extracted data for PO No. 14275 Invoice No. 7301391704.pdf and added to sheet.\n",
            "\n",
            "--- Processing: PO No. 14275 Invoice No. 7301567090.pdf ---\n",
            "SUCCESS: Extracted data for PO No. 14275 Invoice No. 7301567090.pdf and added to sheet.\n",
            "\n",
            "--- Processing: PO No. 13894 Invoice No. 7301392476.pdf ---\n",
            "SUCCESS: Extracted data for PO No. 13894 Invoice No. 7301392476.pdf and added to sheet.\n",
            "\n",
            "--- Processing: PO No. 14275 Invoice No. 7301295083.pdf ---\n",
            "SUCCESS: Extracted data for PO No. 14275 Invoice No. 7301295083.pdf and added to sheet.\n",
            "\n",
            "--- Processing: PO No. 13894 Invoice No. 7301567978.pdf ---\n",
            "SUCCESS: Extracted data for PO No. 13894 Invoice No. 7301567978.pdf and added to sheet.\n",
            "\n",
            "--- Processing: PO No. 14275 Invoice No. 7301120306.pdf ---\n",
            "SUCCESS: Extracted data for PO No. 14275 Invoice No. 7301120306.pdf and added to sheet.\n",
            "\n",
            "--- Processing: PO No. 13894 Invoice No. 7301121392.pdf ---\n",
            "SUCCESS: Extracted data for PO No. 13894 Invoice No. 7301121392.pdf and added to sheet.\n",
            "\n",
            "--- Processing: PO No. 14275 Invoice No. 7300721630 Bond Street Fire.pdf ---\n",
            "SUCCESS: Extracted data for PO No. 14275 Invoice No. 7300721630 Bond Street Fire.pdf and added to sheet.\n",
            "\n",
            "--- Processing: PO No. 14186 Invoice No. 7300732706 Bond Street Fire.pdf ---\n",
            "SUCCESS: Extracted data for PO No. 14186 Invoice No. 7300732706 Bond Street Fire.pdf and added to sheet.\n",
            "\n",
            "--- Processing: PO No. 13894 Invoice No. 7301879325.pdf ---\n",
            "SUCCESS: Extracted data for PO No. 13894 Invoice No. 7301879325.pdf and added to sheet.\n",
            "\n",
            "--- Processing: PO No. 14186 Invoice No. 7300616851 Bond Street Fire.pdf ---\n",
            "SUCCESS: Extracted data for PO No. 14186 Invoice No. 7300616851 Bond Street Fire.pdf and added to sheet.\n",
            "\n",
            "--- Processing: PO No. 14275 Invoice No. 7301751484.pdf ---\n",
            "SUCCESS: Extracted data for PO No. 14275 Invoice No. 7301751484.pdf and added to sheet.\n",
            "\n",
            "--- Processing: PO No. 13894 Invoice No. 7302050564 Bond Street Fire.pdf ---\n",
            "SUCCESS: Extracted data for PO No. 13894 Invoice No. 7302050564 Bond Street Fire.pdf and added to sheet.\n",
            "\n",
            "--- Processing: PO No. 14307 Invoice No. 7300726941 Bond Street Fire.pdf ---\n",
            "SUCCESS: Extracted data for PO No. 14307 Invoice No. 7300726941 Bond Street Fire.pdf and added to sheet.\n",
            "\n",
            "--- Processing: PO No. 14186 Invoice No. 7301300982.pdf ---\n",
            "SUCCESS: Extracted data for PO No. 14186 Invoice No. 7301300982.pdf and added to sheet.\n",
            "\n",
            "--- Processing: PO No. 13894 Invoice No. 7302190910.pdf ---\n",
            "SUCCESS: Extracted data for PO No. 13894 Invoice No. 7302190910.pdf and added to sheet.\n",
            "\n",
            "--- Processing: PO No. 14275 Invoice No. 7300884539.pdf ---\n"
          ]
        }
      ]
    }
  ]
}